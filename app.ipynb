{
 "cells": [
  {
   "cell_type": "code",
   "execution_count": 4,
   "id": "befbe994",
   "metadata": {},
   "outputs": [],
   "source": [
    "from flask import Flask,render_template"
   ]
  },
  {
   "cell_type": "code",
   "execution_count": 5,
   "id": "0c9dd1e1",
   "metadata": {},
   "outputs": [],
   "source": [
    "import joblib"
   ]
  },
  {
   "cell_type": "code",
   "execution_count": 7,
   "id": "343cd156",
   "metadata": {},
   "outputs": [],
   "source": [
    "app=Flask(__name__)"
   ]
  },
  {
   "cell_type": "code",
   "execution_count": 12,
   "id": "88722d25",
   "metadata": {},
   "outputs": [],
   "source": [
    "@app.route(\"/\", methods = [\"GET\", \"POST\"])\n",
    "def index():\n",
    "    if request.method == \"POST\":\n",
    "        rates = float(request.form.get(\"rates\"))\n",
    "        print(rates)\n",
    "        model1 = joblib.load(\"regression\")\n",
    "        pred1 = model1.predict([[rates]])\n",
    "        model2 = joblib.load(\"decision_tree\")\n",
    "        pred2 = model2.predict([[rates]])\n",
    "        return(render_template(\"index.html\", result1=pred1, result2=pred2))\n",
    "    else:\n",
    "        return(render_template(\"index.html\", result1=\"Waiting\", result2=\"Waiting\"))\n"
   ]
  },
  {
   "cell_type": "code",
   "execution_count": null,
   "id": "d11625f0",
   "metadata": {},
   "outputs": [],
   "source": [
    "if __name__== \"__main__\":\n",
    "    app.run()"
   ]
  },
  {
   "cell_type": "code",
   "execution_count": null,
   "id": "6d4ecacd",
   "metadata": {},
   "outputs": [],
   "source": []
  }
 ],
 "metadata": {
  "kernelspec": {
   "display_name": "Python 3 (ipykernel)",
   "language": "python",
   "name": "python3"
  },
  "language_info": {
   "codemirror_mode": {
    "name": "ipython",
    "version": 3
   },
   "file_extension": ".py",
   "mimetype": "text/x-python",
   "name": "python",
   "nbconvert_exporter": "python",
   "pygments_lexer": "ipython3",
   "version": "3.9.12"
  }
 },
 "nbformat": 4,
 "nbformat_minor": 5
}
